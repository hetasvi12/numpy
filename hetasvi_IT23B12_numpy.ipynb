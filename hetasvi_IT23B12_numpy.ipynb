{
 "cells": [
  {
   "cell_type": "code",
   "execution_count": 1,
   "id": "cb2d560f",
   "metadata": {},
   "outputs": [
    {
     "name": "stdout",
     "output_type": "stream",
     "text": [
      "hello MLP\n"
     ]
    }
   ],
   "source": [
    "print(\"hello MLP\")"
   ]
  },
  {
   "cell_type": "code",
   "execution_count": 9,
   "id": "8c059494",
   "metadata": {},
   "outputs": [],
   "source": [
    "import numpy as np"
   ]
  },
  {
   "cell_type": "code",
   "execution_count": 6,
   "id": "cd779bff",
   "metadata": {},
   "outputs": [
    {
     "name": "stdout",
     "output_type": "stream",
     "text": [
      "[1 2 3 4]\n"
     ]
    }
   ],
   "source": [
    "a=np.array([1,2,3,4])  #print of array\n",
    "print(a)"
   ]
  },
  {
   "cell_type": "code",
   "execution_count": 4,
   "id": "81f01b1c",
   "metadata": {},
   "outputs": [
    {
     "name": "stdout",
     "output_type": "stream",
     "text": [
      "array : [1 2 3 4]\n",
      "array a(a)\n",
      "array a:[1 2 3 4]\n"
     ]
    }
   ],
   "source": [
    "print(\"array :\",a)\n",
    "print(f\"array a(a)\")\n",
    "print(\"array a:{}\".format(a))   #format of array"
   ]
  },
  {
   "cell_type": "code",
   "execution_count": 5,
   "id": "6d26a77f",
   "metadata": {},
   "outputs": [
    {
     "name": "stdout",
     "output_type": "stream",
     "text": [
      "ndim:1\n",
      "size:4\n",
      "shape:(4,)\n",
      "stype:int32\n",
      "itemsize4\n"
     ]
    }
   ],
   "source": [
    "print(f\"ndim:{a.ndim}\")  #print min of array\n",
    "print(f\"size:{a.size}\")  #print size of array\n",
    "print(f\"shape:{a.shape}\") #print shape of aray\n",
    "print(f\"stype:{a.dtype}\")  #print type of array\n",
    "print(f\"itemsize{a.itemsize}\")  #number of element in array"
   ]
  },
  {
   "cell_type": "code",
   "execution_count": 6,
   "id": "b52903c7",
   "metadata": {},
   "outputs": [
    {
     "name": "stdout",
     "output_type": "stream",
     "text": [
      "[[1 2 3]\n",
      " [4 5 6]]\n"
     ]
    }
   ],
   "source": [
    "b=np.array([[1,2,3],[4,5,6]]) #print arry\n",
    "print(b)"
   ]
  },
  {
   "cell_type": "code",
   "execution_count": 7,
   "id": "1f07d7b3",
   "metadata": {},
   "outputs": [
    {
     "name": "stdout",
     "output_type": "stream",
     "text": [
      "[ 5  7  9 11]\n"
     ]
    }
   ],
   "source": [
    "b=np.array([4,5,6,7])   #sum of array\n",
    "c=np.add(a,b)\n",
    "print(c)"
   ]
  },
  {
   "cell_type": "code",
   "execution_count": 8,
   "id": "54b16142",
   "metadata": {},
   "outputs": [
    {
     "name": "stdout",
     "output_type": "stream",
     "text": [
      "[ 4 10 18 28]\n"
     ]
    }
   ],
   "source": [
    "b=np.array([4,5,6,7])   #multiuplication of array\n",
    "c=np.multiply(a,b)\n",
    "print(c)"
   ]
  },
  {
   "cell_type": "code",
   "execution_count": 9,
   "id": "a10b463e",
   "metadata": {},
   "outputs": [
    {
     "name": "stdout",
     "output_type": "stream",
     "text": [
      "[0.25       0.4        0.5        0.57142857]\n"
     ]
    }
   ],
   "source": [
    "b=np.array([4,5,6,7])  #division of array\n",
    "c=np.divide(a,b)\n",
    "print(c)"
   ]
  },
  {
   "cell_type": "code",
   "execution_count": 10,
   "id": "f43f49ba",
   "metadata": {},
   "outputs": [
    {
     "name": "stdout",
     "output_type": "stream",
     "text": [
      "[-3 -3 -3 -3]\n"
     ]
    }
   ],
   "source": [
    "b=np.array([4,5,6,7])   #substarction of array\n",
    "c=np.subtract(a,b)\n",
    "print(c)"
   ]
  },
  {
   "cell_type": "code",
   "execution_count": 11,
   "id": "57273df9",
   "metadata": {},
   "outputs": [
    {
     "name": "stdout",
     "output_type": "stream",
     "text": [
      "[1 2 3 4]\n"
     ]
    }
   ],
   "source": [
    "b=np.array([4,5,6,7])  #remainder of array\n",
    "c=np.remainder(a,b)\n",
    "print(c)"
   ]
  },
  {
   "cell_type": "code",
   "execution_count": 12,
   "id": "ad10dfac",
   "metadata": {},
   "outputs": [
    {
     "name": "stdout",
     "output_type": "stream",
     "text": [
      "[1 2 3 4]\n"
     ]
    }
   ],
   "source": [
    "b=np.array([4,5,6,7])  #absolutre of array\n",
    "c=np.absolute(a,b)\n",
    "print(c)"
   ]
  },
  {
   "cell_type": "code",
   "execution_count": 13,
   "id": "4df81446",
   "metadata": {},
   "outputs": [
    {
     "name": "stdout",
     "output_type": "stream",
     "text": [
      "[1 2 3 4]\n"
     ]
    }
   ],
   "source": [
    "b=np.array([4,5,6,7])  #print mod of array\n",
    "c=np.mod(a,b)\n",
    "print(c)"
   ]
  },
  {
   "cell_type": "code",
   "execution_count": 8,
   "id": "c5fadbdf",
   "metadata": {},
   "outputs": [
    {
     "name": "stdout",
     "output_type": "stream",
     "text": [
      "['hetu' 'viya']\n"
     ]
    }
   ],
   "source": [
    "e=np.array(['hetu','viya'])  \n",
    "print(e)"
   ]
  },
  {
   "cell_type": "code",
   "execution_count": 16,
   "id": "1f957f65",
   "metadata": {},
   "outputs": [
    {
     "name": "stdout",
     "output_type": "stream",
     "text": [
      "3\n"
     ]
    }
   ],
   "source": [
    "e=np.size(['Riddhi','htasvi','Mansi']) #size of array\n",
    "print(e)"
   ]
  },
  {
   "cell_type": "code",
   "execution_count": 17,
   "id": "3520ab31",
   "metadata": {},
   "outputs": [
    {
     "name": "stdout",
     "output_type": "stream",
     "text": [
      "[[0. 0. 0.]\n",
      " [0. 0. 0.]]\n"
     ]
    }
   ],
   "source": [
    "z=np.zeros((2,3)) #print that array contain zero\n",
    "print(z)"
   ]
  },
  {
   "cell_type": "code",
   "execution_count": 21,
   "id": "e7d24381",
   "metadata": {},
   "outputs": [
    {
     "name": "stdout",
     "output_type": "stream",
     "text": [
      "[[1. 1. 1.]\n",
      " [1. 1. 1.]\n",
      " [1. 1. 1.]]\n"
     ]
    }
   ],
   "source": [
    "one=np.ones((3,3))  \n",
    "print(one)"
   ]
  },
  {
   "cell_type": "code",
   "execution_count": 28,
   "id": "c6f8205f",
   "metadata": {},
   "outputs": [
    {
     "name": "stdout",
     "output_type": "stream",
     "text": [
      "[[0.25       0.4       ]\n",
      " [0.5        0.57142857]]\n"
     ]
    }
   ],
   "source": [
    "empty=np.empty((2,2))\n",
    "print(empty)"
   ]
  },
  {
   "cell_type": "code",
   "execution_count": 31,
   "id": "603a75cc",
   "metadata": {},
   "outputs": [
    {
     "name": "stdout",
     "output_type": "stream",
     "text": [
      "[[2 3 5]\n",
      " [5 6 7]]\n",
      "7\n"
     ]
    }
   ],
   "source": [
    "a=np.array([[2,3,5],[5,6,7]])  #sliced the array\n",
    "print(a)\n",
    "sliced_arr=a[1,2]\n",
    "print(sliced_arr)"
   ]
  },
  {
   "cell_type": "code",
   "execution_count": 37,
   "id": "08f383b3",
   "metadata": {},
   "outputs": [
    {
     "name": "stdout",
     "output_type": "stream",
     "text": [
      "[5 3] indexed\n"
     ]
    }
   ],
   "source": [
    "indexed_arr=a[[1,0],[0,1]]  #indexd of array\n",
    "print(indexed_arr,\"indexed\")"
   ]
  },
  {
   "cell_type": "code",
   "execution_count": 38,
   "id": "37235f49",
   "metadata": {},
   "outputs": [
    {
     "name": "stdout",
     "output_type": "stream",
     "text": [
      "28\n"
     ]
    }
   ],
   "source": [
    "print(a.sum())  #print the sum of element in the array"
   ]
  },
  {
   "cell_type": "code",
   "execution_count": 3,
   "id": "4ebb9b30",
   "metadata": {},
   "outputs": [
    {
     "name": "stdout",
     "output_type": "stream",
     "text": [
      "[5.         6.70820393 7.07106781]\n"
     ]
    }
   ],
   "source": [
    "a1=np.array([25,45,50])   #print the squre root of element in the array\n",
    "print(np.sqrt(a1))"
   ]
  },
  {
   "cell_type": "code",
   "execution_count": 10,
   "id": "a50435b9",
   "metadata": {},
   "outputs": [
    {
     "name": "stdout",
     "output_type": "stream",
     "text": [
      "[6 7 8 9]\n"
     ]
    }
   ],
   "source": [
    "b=a+5   #add 5 in each elememt\n",
    "print(b)"
   ]
  },
  {
   "cell_type": "code",
   "execution_count": 11,
   "id": "0b2a48a9",
   "metadata": {},
   "outputs": [
    {
     "name": "stdout",
     "output_type": "stream",
     "text": [
      "[[ 36  36  48]\n",
      " [ 90  81 120]\n",
      " [144 126 192]]\n"
     ]
    }
   ],
   "source": [
    "m1=np.array([[1,2,3],[4,5,6],[7,8,9]])    \n",
    "m2=np.array([[7,2,9],[4,5,6],[7,8,9]])\n",
    "m3=np.dot(m1,m2)     #dot use for matrix multiplication\n",
    "print(m3)\n"
   ]
  },
  {
   "cell_type": "code",
   "execution_count": 17,
   "id": "eb0d6d7c",
   "metadata": {},
   "outputs": [
    {
     "name": "stdout",
     "output_type": "stream",
     "text": [
      "all() with axis none False\n",
      "all() with axis=0  [ True False False]\n",
      "all() with axis=1  [False False]\n"
     ]
    }
   ],
   "source": [
    "bool=np.array([[True,True,False],[True,False,False]]) #for and operation use all\n",
    "print(\"all() with axis none\",np.all(bool))\n",
    "print(\"all() with axis=0 \",np.all(bool,axis=0))  #zero means column\n",
    "print(\"all() with axis=1 \",np.all(bool,axis=1))  #one means row"
   ]
  },
  {
   "cell_type": "markdown",
   "id": "18c1bfdf",
   "metadata": {},
   "source": []
  },
  {
   "cell_type": "code",
   "execution_count": 16,
   "id": "88723ee5",
   "metadata": {},
   "outputs": [
    {
     "name": "stdout",
     "output_type": "stream",
     "text": [
      "any() with axis none True\n",
      "any() with axis=0  [ True  True False]\n",
      "any() with axis=1  [ True  True]\n"
     ]
    }
   ],
   "source": [
    "bool=np.array([[True,True,False],[True,False,False]])   #for or operation use any\n",
    "print(\"any() with axis none\",np.any(bool))\n",
    "print(\"any() with axis=0 \",np.any(bool,axis=0))\n",
    "print(\"any() with axis=1 \",np.any(bool,axis=1))"
   ]
  },
  {
   "cell_type": "code",
   "execution_count": 19,
   "id": "11cee079",
   "metadata": {},
   "outputs": [
    {
     "name": "stdout",
     "output_type": "stream",
     "text": [
      "[0 1 2 3 4 5 6 7]\n",
      "[[0 1 2 3]\n",
      " [4 5 6 7]]\n"
     ]
    }
   ],
   "source": [
    "a1=np.arange(8)  #print the araay and arange in sequence with given numbert\n",
    "print(a1)\n",
    "re=a1.reshape(2,4) #reshape the array\n",
    "print(re)"
   ]
  },
  {
   "cell_type": "code",
   "execution_count": 20,
   "id": "0a1711be",
   "metadata": {},
   "outputs": [
    {
     "name": "stdout",
     "output_type": "stream",
     "text": [
      "[[1 2 3]\n",
      " [4 5 6]\n",
      " [7 8 9]]\n",
      "[[7 2 9]\n",
      " [4 5 6]\n",
      " [7 8 9]]\n",
      "[[ 36  36  48]\n",
      " [ 90  81 120]\n",
      " [144 126 192]]\n"
     ]
    }
   ],
   "source": [
    "print(m1)\n",
    "print(m2)\n",
    "print(m3)"
   ]
  },
  {
   "cell_type": "code",
   "execution_count": 23,
   "id": "da6b8cc2",
   "metadata": {},
   "outputs": [
    {
     "name": "stdout",
     "output_type": "stream",
     "text": [
      "[[  1   2   3   7   2   9  36  36  48]\n",
      " [  4   5   6   4   5   6  90  81 120]\n",
      " [  7   8   9   7   8   9 144 126 192]]\n"
     ]
    }
   ],
   "source": [
    "h=np.hstack((m1,m2,m3))  #horizontal stack\n",
    "print(h)"
   ]
  },
  {
   "cell_type": "code",
   "execution_count": 25,
   "id": "051b5861",
   "metadata": {},
   "outputs": [
    {
     "name": "stdout",
     "output_type": "stream",
     "text": [
      "[array([[1, 2, 3],\n",
      "       [4, 5, 6],\n",
      "       [7, 8, 9]]), array([[7, 2, 9],\n",
      "       [4, 5, 6],\n",
      "       [7, 8, 9]]), array([[ 36,  36,  48],\n",
      "       [ 90,  81, 120],\n",
      "       [144, 126, 192]])]\n"
     ]
    }
   ],
   "source": [
    "hsplit=np.hsplit(h,3)  #horizontal split\n",
    "print(hsplit)"
   ]
  },
  {
   "cell_type": "code",
   "execution_count": 27,
   "id": "a39eb371",
   "metadata": {},
   "outputs": [
    {
     "name": "stdout",
     "output_type": "stream",
     "text": [
      "[array([[ 1,  2,  3,  7,  2,  9, 36, 36, 48]]), array([[  4,   5,   6,   4,   5,   6,  90,  81, 120]]), array([[  7,   8,   9,   7,   8,   9, 144, 126, 192]])]\n"
     ]
    }
   ],
   "source": [
    "vsplit=np.vsplit(h,3) #vertiacl split\n",
    "print(vsplit)"
   ]
  },
  {
   "cell_type": "code",
   "execution_count": 29,
   "id": "ad339dd4",
   "metadata": {},
   "outputs": [
    {
     "name": "stdout",
     "output_type": "stream",
     "text": [
      "sqrt: [4.79583152 6.70820393 8.18535277 9.43398113]\n",
      "exp: [9.74480345e+09 3.49342711e+19 1.25236317e+29 4.48961282e+38]\n",
      "sin: [-0.8462204   0.85090352 -0.85551998  0.86006941]\n",
      "cos: [-0.53283302  0.52532199 -0.5177698   0.51017704]\n",
      "log: [3.13549422 3.80666249 4.20469262 4.48863637]\n",
      "sum: 224\n",
      "std: 24.596747752497688\n"
     ]
    }
   ],
   "source": [
    "arr=np.array([23,45,67,89])\n",
    "print(\"sqrt:\",np.sqrt(arr))  #return the squre root of each element\n",
    "print(\"exp:\",np.exp(arr))    #return the exponentilas of each element\n",
    "print(\"sin:\",np.sin(arr))    #return the sin of each element\n",
    "print(\"cos:\",np.cos(arr))    #return the cosime of each element\n",
    "print(\"log:\",np.log(arr))    #return the logarithm of each element\n",
    "print(\"sum:\",np.sum(arr))    #return the sum total in the array\n",
    "print(\"std:\",np.std(arr))    #return the standard deviation in the array"
   ]
  },
  {
   "cell_type": "code",
   "execution_count": 30,
   "id": "514689e1",
   "metadata": {},
   "outputs": [
    {
     "name": "stdout",
     "output_type": "stream",
     "text": [
      "random:[0.76896584 0.90170074 0.42411175 0.13468571 0.07694748 0.43866619\n",
      " 0.87350778 0.23925304 0.82662212 0.91828002 0.92152619 0.33371929\n",
      " 0.4513621  0.73343297 0.26858001 0.69542723 0.34282616 0.20915089\n",
      " 0.95580845 0.25104822]\n",
      "\n",
      "rand:[[0.31128859 0.55472339 0.62994144 0.55976372]\n",
      " [0.549807   0.9314941  0.92262821 0.23421488]\n",
      " [0.4194875  0.92515654 0.83417849 0.16039725]]\n",
      "\n",
      "randint:[43 66 99 52  2  1 38 68  5 37 46 34 19 59  0 98 49 89 80 92]\n",
      "\n",
      "permutatopn:[17  2  7 13  3  6 10 18 16 12  9 14  1  8 15  5 19  4 11  0]\n",
      "\n"
     ]
    }
   ],
   "source": [
    "print(\"random:{}\\n\".format(np.random.random(20)));  #print the random value in array\n",
    "print(\"rand:{}\\n\".format(np.random.rand(3,4)));\n",
    "print(\"randint:{}\\n\".format(np.random.randint(0,100,20)));\n",
    "print(\"permutatopn:{}\\n\".format(np.random.permutation(np.arange(20))));  #permutation use for combination\n",
    "\n",
    "\n",
    "\n"
   ]
  },
  {
   "cell_type": "code",
   "execution_count": null,
   "id": "32c9f0cf",
   "metadata": {},
   "outputs": [],
   "source": []
  }
 ],
 "metadata": {
  "kernelspec": {
   "display_name": "Python 3 (ipykernel)",
   "language": "python",
   "name": "python3"
  },
  "language_info": {
   "codemirror_mode": {
    "name": "ipython",
    "version": 3
   },
   "file_extension": ".py",
   "mimetype": "text/x-python",
   "name": "python",
   "nbconvert_exporter": "python",
   "pygments_lexer": "ipython3",
   "version": "3.11.5"
  }
 },
 "nbformat": 4,
 "nbformat_minor": 5
}
